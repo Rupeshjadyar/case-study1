{
 "cells": [
  {
   "cell_type": "markdown",
   "id": "9b59d425",
   "metadata": {},
   "source": [
    "# #import all libraries\n"
   ]
  },
  {
   "cell_type": "code",
   "execution_count": 160,
   "id": "244ce943",
   "metadata": {},
   "outputs": [],
   "source": [
    "import numpy as np\n",
    "import pandas as pd\n",
    "import matplotlib.pyplot as plt\n",
    "import seaborn as sns"
   ]
  },
  {
   "cell_type": "markdown",
   "id": "9b67d667",
   "metadata": {},
   "source": [
    "# read ipl.csv file and print first 5 records\n"
   ]
  },
  {
   "cell_type": "code",
   "execution_count": 161,
   "id": "56635692",
   "metadata": {},
   "outputs": [
    {
     "data": {
      "text/html": [
       "<div>\n",
       "<style scoped>\n",
       "    .dataframe tbody tr th:only-of-type {\n",
       "        vertical-align: middle;\n",
       "    }\n",
       "\n",
       "    .dataframe tbody tr th {\n",
       "        vertical-align: top;\n",
       "    }\n",
       "\n",
       "    .dataframe thead th {\n",
       "        text-align: right;\n",
       "    }\n",
       "</style>\n",
       "<table border=\"1\" class=\"dataframe\">\n",
       "  <thead>\n",
       "    <tr style=\"text-align: right;\">\n",
       "      <th></th>\n",
       "      <th>id</th>\n",
       "      <th>season</th>\n",
       "      <th>city</th>\n",
       "      <th>date</th>\n",
       "      <th>team1</th>\n",
       "      <th>team2</th>\n",
       "      <th>toss_winner</th>\n",
       "      <th>toss_decision</th>\n",
       "      <th>result</th>\n",
       "      <th>dl_applied</th>\n",
       "      <th>winner</th>\n",
       "      <th>win_by_runs</th>\n",
       "      <th>win_by_wickets</th>\n",
       "      <th>player_of_match</th>\n",
       "      <th>venue</th>\n",
       "      <th>umpire1</th>\n",
       "      <th>umpire2</th>\n",
       "      <th>umpire3</th>\n",
       "    </tr>\n",
       "  </thead>\n",
       "  <tbody>\n",
       "    <tr>\n",
       "      <th>0</th>\n",
       "      <td>1</td>\n",
       "      <td>2017</td>\n",
       "      <td>Hyderabad</td>\n",
       "      <td>2017-04-05</td>\n",
       "      <td>Sunrisers Hyderabad</td>\n",
       "      <td>Royal Challengers Bangalore</td>\n",
       "      <td>Royal Challengers Bangalore</td>\n",
       "      <td>field</td>\n",
       "      <td>normal</td>\n",
       "      <td>0</td>\n",
       "      <td>Sunrisers Hyderabad</td>\n",
       "      <td>35</td>\n",
       "      <td>0</td>\n",
       "      <td>Yuvraj Singh</td>\n",
       "      <td>Rajiv Gandhi International Stadium, Uppal</td>\n",
       "      <td>AY Dandekar</td>\n",
       "      <td>NJ Llong</td>\n",
       "      <td>NaN</td>\n",
       "    </tr>\n",
       "    <tr>\n",
       "      <th>1</th>\n",
       "      <td>2</td>\n",
       "      <td>2017</td>\n",
       "      <td>Pune</td>\n",
       "      <td>2017-04-06</td>\n",
       "      <td>Mumbai Indians</td>\n",
       "      <td>Rising Pune Supergiant</td>\n",
       "      <td>Rising Pune Supergiant</td>\n",
       "      <td>field</td>\n",
       "      <td>normal</td>\n",
       "      <td>0</td>\n",
       "      <td>Rising Pune Supergiant</td>\n",
       "      <td>0</td>\n",
       "      <td>7</td>\n",
       "      <td>SPD Smith</td>\n",
       "      <td>Maharashtra Cricket Association Stadium</td>\n",
       "      <td>A Nand Kishore</td>\n",
       "      <td>S Ravi</td>\n",
       "      <td>NaN</td>\n",
       "    </tr>\n",
       "    <tr>\n",
       "      <th>2</th>\n",
       "      <td>3</td>\n",
       "      <td>2017</td>\n",
       "      <td>Rajkot</td>\n",
       "      <td>2017-04-07</td>\n",
       "      <td>Gujarat Lions</td>\n",
       "      <td>Kolkata Knight Riders</td>\n",
       "      <td>Kolkata Knight Riders</td>\n",
       "      <td>field</td>\n",
       "      <td>normal</td>\n",
       "      <td>0</td>\n",
       "      <td>Kolkata Knight Riders</td>\n",
       "      <td>0</td>\n",
       "      <td>10</td>\n",
       "      <td>CA Lynn</td>\n",
       "      <td>Saurashtra Cricket Association Stadium</td>\n",
       "      <td>Nitin Menon</td>\n",
       "      <td>CK Nandan</td>\n",
       "      <td>NaN</td>\n",
       "    </tr>\n",
       "    <tr>\n",
       "      <th>3</th>\n",
       "      <td>4</td>\n",
       "      <td>2017</td>\n",
       "      <td>Indore</td>\n",
       "      <td>2017-04-08</td>\n",
       "      <td>Rising Pune Supergiant</td>\n",
       "      <td>Kings XI Punjab</td>\n",
       "      <td>Kings XI Punjab</td>\n",
       "      <td>field</td>\n",
       "      <td>normal</td>\n",
       "      <td>0</td>\n",
       "      <td>Kings XI Punjab</td>\n",
       "      <td>0</td>\n",
       "      <td>6</td>\n",
       "      <td>GJ Maxwell</td>\n",
       "      <td>Holkar Cricket Stadium</td>\n",
       "      <td>AK Chaudhary</td>\n",
       "      <td>C Shamshuddin</td>\n",
       "      <td>NaN</td>\n",
       "    </tr>\n",
       "    <tr>\n",
       "      <th>4</th>\n",
       "      <td>5</td>\n",
       "      <td>2017</td>\n",
       "      <td>Bangalore</td>\n",
       "      <td>2017-04-08</td>\n",
       "      <td>Royal Challengers Bangalore</td>\n",
       "      <td>Delhi Daredevils</td>\n",
       "      <td>Royal Challengers Bangalore</td>\n",
       "      <td>bat</td>\n",
       "      <td>normal</td>\n",
       "      <td>0</td>\n",
       "      <td>Royal Challengers Bangalore</td>\n",
       "      <td>15</td>\n",
       "      <td>0</td>\n",
       "      <td>KM Jadhav</td>\n",
       "      <td>M Chinnaswamy Stadium</td>\n",
       "      <td>NaN</td>\n",
       "      <td>NaN</td>\n",
       "      <td>NaN</td>\n",
       "    </tr>\n",
       "    <tr>\n",
       "      <th>...</th>\n",
       "      <td>...</td>\n",
       "      <td>...</td>\n",
       "      <td>...</td>\n",
       "      <td>...</td>\n",
       "      <td>...</td>\n",
       "      <td>...</td>\n",
       "      <td>...</td>\n",
       "      <td>...</td>\n",
       "      <td>...</td>\n",
       "      <td>...</td>\n",
       "      <td>...</td>\n",
       "      <td>...</td>\n",
       "      <td>...</td>\n",
       "      <td>...</td>\n",
       "      <td>...</td>\n",
       "      <td>...</td>\n",
       "      <td>...</td>\n",
       "      <td>...</td>\n",
       "    </tr>\n",
       "    <tr>\n",
       "      <th>631</th>\n",
       "      <td>632</td>\n",
       "      <td>2016</td>\n",
       "      <td>Raipur</td>\n",
       "      <td>2016-05-22</td>\n",
       "      <td>Delhi Daredevils</td>\n",
       "      <td>Royal Challengers Bangalore</td>\n",
       "      <td>Royal Challengers Bangalore</td>\n",
       "      <td>field</td>\n",
       "      <td>normal</td>\n",
       "      <td>0</td>\n",
       "      <td>Royal Challengers Bangalore</td>\n",
       "      <td>0</td>\n",
       "      <td>6</td>\n",
       "      <td>V Kohli</td>\n",
       "      <td>Shaheed Veer Narayan Singh International Stadium</td>\n",
       "      <td>A Nand Kishore</td>\n",
       "      <td>BNJ Oxenford</td>\n",
       "      <td>NaN</td>\n",
       "    </tr>\n",
       "    <tr>\n",
       "      <th>632</th>\n",
       "      <td>633</td>\n",
       "      <td>2016</td>\n",
       "      <td>Bangalore</td>\n",
       "      <td>2016-05-24</td>\n",
       "      <td>Gujarat Lions</td>\n",
       "      <td>Royal Challengers Bangalore</td>\n",
       "      <td>Royal Challengers Bangalore</td>\n",
       "      <td>field</td>\n",
       "      <td>normal</td>\n",
       "      <td>0</td>\n",
       "      <td>Royal Challengers Bangalore</td>\n",
       "      <td>0</td>\n",
       "      <td>4</td>\n",
       "      <td>AB de Villiers</td>\n",
       "      <td>M Chinnaswamy Stadium</td>\n",
       "      <td>AK Chaudhary</td>\n",
       "      <td>HDPK Dharmasena</td>\n",
       "      <td>NaN</td>\n",
       "    </tr>\n",
       "    <tr>\n",
       "      <th>633</th>\n",
       "      <td>634</td>\n",
       "      <td>2016</td>\n",
       "      <td>Delhi</td>\n",
       "      <td>2016-05-25</td>\n",
       "      <td>Sunrisers Hyderabad</td>\n",
       "      <td>Kolkata Knight Riders</td>\n",
       "      <td>Kolkata Knight Riders</td>\n",
       "      <td>field</td>\n",
       "      <td>normal</td>\n",
       "      <td>0</td>\n",
       "      <td>Sunrisers Hyderabad</td>\n",
       "      <td>22</td>\n",
       "      <td>0</td>\n",
       "      <td>MC Henriques</td>\n",
       "      <td>Feroz Shah Kotla</td>\n",
       "      <td>M Erasmus</td>\n",
       "      <td>C Shamshuddin</td>\n",
       "      <td>NaN</td>\n",
       "    </tr>\n",
       "    <tr>\n",
       "      <th>634</th>\n",
       "      <td>635</td>\n",
       "      <td>2016</td>\n",
       "      <td>Delhi</td>\n",
       "      <td>2016-05-27</td>\n",
       "      <td>Gujarat Lions</td>\n",
       "      <td>Sunrisers Hyderabad</td>\n",
       "      <td>Sunrisers Hyderabad</td>\n",
       "      <td>field</td>\n",
       "      <td>normal</td>\n",
       "      <td>0</td>\n",
       "      <td>Sunrisers Hyderabad</td>\n",
       "      <td>0</td>\n",
       "      <td>4</td>\n",
       "      <td>DA Warner</td>\n",
       "      <td>Feroz Shah Kotla</td>\n",
       "      <td>M Erasmus</td>\n",
       "      <td>CK Nandan</td>\n",
       "      <td>NaN</td>\n",
       "    </tr>\n",
       "    <tr>\n",
       "      <th>635</th>\n",
       "      <td>636</td>\n",
       "      <td>2016</td>\n",
       "      <td>Bangalore</td>\n",
       "      <td>2016-05-29</td>\n",
       "      <td>Sunrisers Hyderabad</td>\n",
       "      <td>Royal Challengers Bangalore</td>\n",
       "      <td>Sunrisers Hyderabad</td>\n",
       "      <td>bat</td>\n",
       "      <td>normal</td>\n",
       "      <td>0</td>\n",
       "      <td>Sunrisers Hyderabad</td>\n",
       "      <td>8</td>\n",
       "      <td>0</td>\n",
       "      <td>BCJ Cutting</td>\n",
       "      <td>M Chinnaswamy Stadium</td>\n",
       "      <td>HDPK Dharmasena</td>\n",
       "      <td>BNJ Oxenford</td>\n",
       "      <td>NaN</td>\n",
       "    </tr>\n",
       "  </tbody>\n",
       "</table>\n",
       "<p>636 rows × 18 columns</p>\n",
       "</div>"
      ],
      "text/plain": [
       "      id  season       city        date                        team1  \\\n",
       "0      1    2017  Hyderabad  2017-04-05          Sunrisers Hyderabad   \n",
       "1      2    2017       Pune  2017-04-06               Mumbai Indians   \n",
       "2      3    2017     Rajkot  2017-04-07                Gujarat Lions   \n",
       "3      4    2017     Indore  2017-04-08       Rising Pune Supergiant   \n",
       "4      5    2017  Bangalore  2017-04-08  Royal Challengers Bangalore   \n",
       "..   ...     ...        ...         ...                          ...   \n",
       "631  632    2016     Raipur  2016-05-22             Delhi Daredevils   \n",
       "632  633    2016  Bangalore  2016-05-24                Gujarat Lions   \n",
       "633  634    2016      Delhi  2016-05-25          Sunrisers Hyderabad   \n",
       "634  635    2016      Delhi  2016-05-27                Gujarat Lions   \n",
       "635  636    2016  Bangalore  2016-05-29          Sunrisers Hyderabad   \n",
       "\n",
       "                           team2                  toss_winner toss_decision  \\\n",
       "0    Royal Challengers Bangalore  Royal Challengers Bangalore         field   \n",
       "1         Rising Pune Supergiant       Rising Pune Supergiant         field   \n",
       "2          Kolkata Knight Riders        Kolkata Knight Riders         field   \n",
       "3                Kings XI Punjab              Kings XI Punjab         field   \n",
       "4               Delhi Daredevils  Royal Challengers Bangalore           bat   \n",
       "..                           ...                          ...           ...   \n",
       "631  Royal Challengers Bangalore  Royal Challengers Bangalore         field   \n",
       "632  Royal Challengers Bangalore  Royal Challengers Bangalore         field   \n",
       "633        Kolkata Knight Riders        Kolkata Knight Riders         field   \n",
       "634          Sunrisers Hyderabad          Sunrisers Hyderabad         field   \n",
       "635  Royal Challengers Bangalore          Sunrisers Hyderabad           bat   \n",
       "\n",
       "     result  dl_applied                       winner  win_by_runs  \\\n",
       "0    normal           0          Sunrisers Hyderabad           35   \n",
       "1    normal           0       Rising Pune Supergiant            0   \n",
       "2    normal           0        Kolkata Knight Riders            0   \n",
       "3    normal           0              Kings XI Punjab            0   \n",
       "4    normal           0  Royal Challengers Bangalore           15   \n",
       "..      ...         ...                          ...          ...   \n",
       "631  normal           0  Royal Challengers Bangalore            0   \n",
       "632  normal           0  Royal Challengers Bangalore            0   \n",
       "633  normal           0          Sunrisers Hyderabad           22   \n",
       "634  normal           0          Sunrisers Hyderabad            0   \n",
       "635  normal           0          Sunrisers Hyderabad            8   \n",
       "\n",
       "     win_by_wickets player_of_match  \\\n",
       "0                 0    Yuvraj Singh   \n",
       "1                 7       SPD Smith   \n",
       "2                10         CA Lynn   \n",
       "3                 6      GJ Maxwell   \n",
       "4                 0       KM Jadhav   \n",
       "..              ...             ...   \n",
       "631               6         V Kohli   \n",
       "632               4  AB de Villiers   \n",
       "633               0    MC Henriques   \n",
       "634               4       DA Warner   \n",
       "635               0     BCJ Cutting   \n",
       "\n",
       "                                                venue          umpire1  \\\n",
       "0           Rajiv Gandhi International Stadium, Uppal      AY Dandekar   \n",
       "1             Maharashtra Cricket Association Stadium   A Nand Kishore   \n",
       "2              Saurashtra Cricket Association Stadium      Nitin Menon   \n",
       "3                              Holkar Cricket Stadium     AK Chaudhary   \n",
       "4                               M Chinnaswamy Stadium              NaN   \n",
       "..                                                ...              ...   \n",
       "631  Shaheed Veer Narayan Singh International Stadium   A Nand Kishore   \n",
       "632                             M Chinnaswamy Stadium     AK Chaudhary   \n",
       "633                                  Feroz Shah Kotla        M Erasmus   \n",
       "634                                  Feroz Shah Kotla        M Erasmus   \n",
       "635                             M Chinnaswamy Stadium  HDPK Dharmasena   \n",
       "\n",
       "             umpire2  umpire3  \n",
       "0           NJ Llong      NaN  \n",
       "1             S Ravi      NaN  \n",
       "2          CK Nandan      NaN  \n",
       "3      C Shamshuddin      NaN  \n",
       "4                NaN      NaN  \n",
       "..               ...      ...  \n",
       "631     BNJ Oxenford      NaN  \n",
       "632  HDPK Dharmasena      NaN  \n",
       "633    C Shamshuddin      NaN  \n",
       "634        CK Nandan      NaN  \n",
       "635     BNJ Oxenford      NaN  \n",
       "\n",
       "[636 rows x 18 columns]"
      ]
     },
     "execution_count": 161,
     "metadata": {},
     "output_type": "execute_result"
    }
   ],
   "source": [
    "a=pd.read_csv('ipl data.csv')\n",
    "a"
   ]
  },
  {
   "cell_type": "code",
   "execution_count": 162,
   "id": "c0bce083",
   "metadata": {
    "scrolled": true
   },
   "outputs": [
    {
     "data": {
      "text/html": [
       "<div>\n",
       "<style scoped>\n",
       "    .dataframe tbody tr th:only-of-type {\n",
       "        vertical-align: middle;\n",
       "    }\n",
       "\n",
       "    .dataframe tbody tr th {\n",
       "        vertical-align: top;\n",
       "    }\n",
       "\n",
       "    .dataframe thead th {\n",
       "        text-align: right;\n",
       "    }\n",
       "</style>\n",
       "<table border=\"1\" class=\"dataframe\">\n",
       "  <thead>\n",
       "    <tr style=\"text-align: right;\">\n",
       "      <th></th>\n",
       "      <th>id</th>\n",
       "      <th>season</th>\n",
       "      <th>city</th>\n",
       "      <th>date</th>\n",
       "      <th>team1</th>\n",
       "      <th>team2</th>\n",
       "      <th>toss_winner</th>\n",
       "      <th>toss_decision</th>\n",
       "      <th>result</th>\n",
       "      <th>dl_applied</th>\n",
       "      <th>winner</th>\n",
       "      <th>win_by_runs</th>\n",
       "      <th>win_by_wickets</th>\n",
       "      <th>player_of_match</th>\n",
       "      <th>venue</th>\n",
       "      <th>umpire1</th>\n",
       "      <th>umpire2</th>\n",
       "      <th>umpire3</th>\n",
       "    </tr>\n",
       "  </thead>\n",
       "  <tbody>\n",
       "    <tr>\n",
       "      <th>0</th>\n",
       "      <td>1</td>\n",
       "      <td>2017</td>\n",
       "      <td>Hyderabad</td>\n",
       "      <td>2017-04-05</td>\n",
       "      <td>Sunrisers Hyderabad</td>\n",
       "      <td>Royal Challengers Bangalore</td>\n",
       "      <td>Royal Challengers Bangalore</td>\n",
       "      <td>field</td>\n",
       "      <td>normal</td>\n",
       "      <td>0</td>\n",
       "      <td>Sunrisers Hyderabad</td>\n",
       "      <td>35</td>\n",
       "      <td>0</td>\n",
       "      <td>Yuvraj Singh</td>\n",
       "      <td>Rajiv Gandhi International Stadium, Uppal</td>\n",
       "      <td>AY Dandekar</td>\n",
       "      <td>NJ Llong</td>\n",
       "      <td>NaN</td>\n",
       "    </tr>\n",
       "    <tr>\n",
       "      <th>1</th>\n",
       "      <td>2</td>\n",
       "      <td>2017</td>\n",
       "      <td>Pune</td>\n",
       "      <td>2017-04-06</td>\n",
       "      <td>Mumbai Indians</td>\n",
       "      <td>Rising Pune Supergiant</td>\n",
       "      <td>Rising Pune Supergiant</td>\n",
       "      <td>field</td>\n",
       "      <td>normal</td>\n",
       "      <td>0</td>\n",
       "      <td>Rising Pune Supergiant</td>\n",
       "      <td>0</td>\n",
       "      <td>7</td>\n",
       "      <td>SPD Smith</td>\n",
       "      <td>Maharashtra Cricket Association Stadium</td>\n",
       "      <td>A Nand Kishore</td>\n",
       "      <td>S Ravi</td>\n",
       "      <td>NaN</td>\n",
       "    </tr>\n",
       "    <tr>\n",
       "      <th>2</th>\n",
       "      <td>3</td>\n",
       "      <td>2017</td>\n",
       "      <td>Rajkot</td>\n",
       "      <td>2017-04-07</td>\n",
       "      <td>Gujarat Lions</td>\n",
       "      <td>Kolkata Knight Riders</td>\n",
       "      <td>Kolkata Knight Riders</td>\n",
       "      <td>field</td>\n",
       "      <td>normal</td>\n",
       "      <td>0</td>\n",
       "      <td>Kolkata Knight Riders</td>\n",
       "      <td>0</td>\n",
       "      <td>10</td>\n",
       "      <td>CA Lynn</td>\n",
       "      <td>Saurashtra Cricket Association Stadium</td>\n",
       "      <td>Nitin Menon</td>\n",
       "      <td>CK Nandan</td>\n",
       "      <td>NaN</td>\n",
       "    </tr>\n",
       "    <tr>\n",
       "      <th>3</th>\n",
       "      <td>4</td>\n",
       "      <td>2017</td>\n",
       "      <td>Indore</td>\n",
       "      <td>2017-04-08</td>\n",
       "      <td>Rising Pune Supergiant</td>\n",
       "      <td>Kings XI Punjab</td>\n",
       "      <td>Kings XI Punjab</td>\n",
       "      <td>field</td>\n",
       "      <td>normal</td>\n",
       "      <td>0</td>\n",
       "      <td>Kings XI Punjab</td>\n",
       "      <td>0</td>\n",
       "      <td>6</td>\n",
       "      <td>GJ Maxwell</td>\n",
       "      <td>Holkar Cricket Stadium</td>\n",
       "      <td>AK Chaudhary</td>\n",
       "      <td>C Shamshuddin</td>\n",
       "      <td>NaN</td>\n",
       "    </tr>\n",
       "    <tr>\n",
       "      <th>4</th>\n",
       "      <td>5</td>\n",
       "      <td>2017</td>\n",
       "      <td>Bangalore</td>\n",
       "      <td>2017-04-08</td>\n",
       "      <td>Royal Challengers Bangalore</td>\n",
       "      <td>Delhi Daredevils</td>\n",
       "      <td>Royal Challengers Bangalore</td>\n",
       "      <td>bat</td>\n",
       "      <td>normal</td>\n",
       "      <td>0</td>\n",
       "      <td>Royal Challengers Bangalore</td>\n",
       "      <td>15</td>\n",
       "      <td>0</td>\n",
       "      <td>KM Jadhav</td>\n",
       "      <td>M Chinnaswamy Stadium</td>\n",
       "      <td>NaN</td>\n",
       "      <td>NaN</td>\n",
       "      <td>NaN</td>\n",
       "    </tr>\n",
       "  </tbody>\n",
       "</table>\n",
       "</div>"
      ],
      "text/plain": [
       "   id  season       city        date                        team1  \\\n",
       "0   1    2017  Hyderabad  2017-04-05          Sunrisers Hyderabad   \n",
       "1   2    2017       Pune  2017-04-06               Mumbai Indians   \n",
       "2   3    2017     Rajkot  2017-04-07                Gujarat Lions   \n",
       "3   4    2017     Indore  2017-04-08       Rising Pune Supergiant   \n",
       "4   5    2017  Bangalore  2017-04-08  Royal Challengers Bangalore   \n",
       "\n",
       "                         team2                  toss_winner toss_decision  \\\n",
       "0  Royal Challengers Bangalore  Royal Challengers Bangalore         field   \n",
       "1       Rising Pune Supergiant       Rising Pune Supergiant         field   \n",
       "2        Kolkata Knight Riders        Kolkata Knight Riders         field   \n",
       "3              Kings XI Punjab              Kings XI Punjab         field   \n",
       "4             Delhi Daredevils  Royal Challengers Bangalore           bat   \n",
       "\n",
       "   result  dl_applied                       winner  win_by_runs  \\\n",
       "0  normal           0          Sunrisers Hyderabad           35   \n",
       "1  normal           0       Rising Pune Supergiant            0   \n",
       "2  normal           0        Kolkata Knight Riders            0   \n",
       "3  normal           0              Kings XI Punjab            0   \n",
       "4  normal           0  Royal Challengers Bangalore           15   \n",
       "\n",
       "   win_by_wickets player_of_match                                      venue  \\\n",
       "0               0    Yuvraj Singh  Rajiv Gandhi International Stadium, Uppal   \n",
       "1               7       SPD Smith    Maharashtra Cricket Association Stadium   \n",
       "2              10         CA Lynn     Saurashtra Cricket Association Stadium   \n",
       "3               6      GJ Maxwell                     Holkar Cricket Stadium   \n",
       "4               0       KM Jadhav                      M Chinnaswamy Stadium   \n",
       "\n",
       "          umpire1        umpire2  umpire3  \n",
       "0     AY Dandekar       NJ Llong      NaN  \n",
       "1  A Nand Kishore         S Ravi      NaN  \n",
       "2     Nitin Menon      CK Nandan      NaN  \n",
       "3    AK Chaudhary  C Shamshuddin      NaN  \n",
       "4             NaN            NaN      NaN  "
      ]
     },
     "execution_count": 162,
     "metadata": {},
     "output_type": "execute_result"
    }
   ],
   "source": [
    "a.head()"
   ]
  },
  {
   "cell_type": "markdown",
   "id": "3786e820",
   "metadata": {},
   "source": [
    "\n",
    "# check total number of columns,entries note down your findings\n"
   ]
  },
  {
   "cell_type": "code",
   "execution_count": 163,
   "id": "e4381d7c",
   "metadata": {},
   "outputs": [
    {
     "name": "stdout",
     "output_type": "stream",
     "text": [
      "<class 'pandas.core.frame.DataFrame'>\n",
      "RangeIndex: 636 entries, 0 to 635\n",
      "Data columns (total 18 columns):\n",
      " #   Column           Non-Null Count  Dtype  \n",
      "---  ------           --------------  -----  \n",
      " 0   id               636 non-null    int64  \n",
      " 1   season           636 non-null    int64  \n",
      " 2   city             629 non-null    object \n",
      " 3   date             636 non-null    object \n",
      " 4   team1            636 non-null    object \n",
      " 5   team2            636 non-null    object \n",
      " 6   toss_winner      636 non-null    object \n",
      " 7   toss_decision    636 non-null    object \n",
      " 8   result           636 non-null    object \n",
      " 9   dl_applied       636 non-null    int64  \n",
      " 10  winner           633 non-null    object \n",
      " 11  win_by_runs      636 non-null    int64  \n",
      " 12  win_by_wickets   636 non-null    int64  \n",
      " 13  player_of_match  633 non-null    object \n",
      " 14  venue            636 non-null    object \n",
      " 15  umpire1          635 non-null    object \n",
      " 16  umpire2          635 non-null    object \n",
      " 17  umpire3          0 non-null      float64\n",
      "dtypes: float64(1), int64(5), object(12)\n",
      "memory usage: 89.6+ KB\n"
     ]
    }
   ],
   "source": [
    "a.info()"
   ]
  },
  {
   "cell_type": "code",
   "execution_count": 164,
   "id": "ce419099",
   "metadata": {},
   "outputs": [
    {
     "data": {
      "text/plain": [
       "636"
      ]
     },
     "execution_count": 164,
     "metadata": {},
     "output_type": "execute_result"
    }
   ],
   "source": [
    "len(a. index)"
   ]
  },
  {
   "cell_type": "markdown",
   "id": "1eee5f90",
   "metadata": {},
   "source": [
    "# find null values"
   ]
  },
  {
   "cell_type": "code",
   "execution_count": 165,
   "id": "6de56b76",
   "metadata": {},
   "outputs": [
    {
     "data": {
      "text/plain": [
       "id                   0\n",
       "season               0\n",
       "city                 7\n",
       "date                 0\n",
       "team1                0\n",
       "team2                0\n",
       "toss_winner          0\n",
       "toss_decision        0\n",
       "result               0\n",
       "dl_applied           0\n",
       "winner               3\n",
       "win_by_runs          0\n",
       "win_by_wickets       0\n",
       "player_of_match      3\n",
       "venue                0\n",
       "umpire1              1\n",
       "umpire2              1\n",
       "umpire3            636\n",
       "dtype: int64"
      ]
     },
     "execution_count": 165,
     "metadata": {},
     "output_type": "execute_result"
    }
   ],
   "source": [
    "a.isnull().sum()"
   ]
  },
  {
   "cell_type": "markdown",
   "id": "8b29f1ed",
   "metadata": {},
   "source": [
    "# drop umpire3 column becouse  70% above  null values\n"
   ]
  },
  {
   "cell_type": "code",
   "execution_count": 166,
   "id": "3b875c4d",
   "metadata": {},
   "outputs": [],
   "source": [
    "a.drop(\"umpire3\",axis=1,inplace=True)"
   ]
  },
  {
   "cell_type": "code",
   "execution_count": 167,
   "id": "2f3e26ae",
   "metadata": {},
   "outputs": [
    {
     "data": {
      "text/plain": [
       "id                 0\n",
       "season             0\n",
       "city               7\n",
       "date               0\n",
       "team1              0\n",
       "team2              0\n",
       "toss_winner        0\n",
       "toss_decision      0\n",
       "result             0\n",
       "dl_applied         0\n",
       "winner             3\n",
       "win_by_runs        0\n",
       "win_by_wickets     0\n",
       "player_of_match    3\n",
       "venue              0\n",
       "umpire1            1\n",
       "umpire2            1\n",
       "dtype: int64"
      ]
     },
     "execution_count": 167,
     "metadata": {},
     "output_type": "execute_result"
    }
   ],
   "source": [
    "a.isnull().sum()\n"
   ]
  },
  {
   "cell_type": "markdown",
   "id": "e1f0849e",
   "metadata": {},
   "source": [
    "# drop null values of city , winner ,player_of_match,umpire1,umpire2 colu"
   ]
  },
  {
   "cell_type": "code",
   "execution_count": 168,
   "id": "0699358b",
   "metadata": {},
   "outputs": [],
   "source": [
    "\n",
    "a.dropna(inplace=True)"
   ]
  },
  {
   "cell_type": "code",
   "execution_count": 169,
   "id": "64565a65",
   "metadata": {
    "scrolled": true
   },
   "outputs": [
    {
     "data": {
      "text/plain": [
       "id                 0\n",
       "season             0\n",
       "city               0\n",
       "date               0\n",
       "team1              0\n",
       "team2              0\n",
       "toss_winner        0\n",
       "toss_decision      0\n",
       "result             0\n",
       "dl_applied         0\n",
       "winner             0\n",
       "win_by_runs        0\n",
       "win_by_wickets     0\n",
       "player_of_match    0\n",
       "venue              0\n",
       "umpire1            0\n",
       "umpire2            0\n",
       "dtype: int64"
      ]
     },
     "execution_count": 169,
     "metadata": {},
     "output_type": "execute_result"
    }
   ],
   "source": [
    "a.isnull().sum()\n"
   ]
  },
  {
   "cell_type": "markdown",
   "id": "bd0f3003",
   "metadata": {},
   "source": [
    "# which city hosted most number of matches?"
   ]
  },
  {
   "cell_type": "code",
   "execution_count": 170,
   "id": "a9eb4759",
   "metadata": {
    "scrolled": true
   },
   "outputs": [
    {
     "data": {
      "text/plain": [
       "<AxesSubplot:>"
      ]
     },
     "execution_count": 170,
     "metadata": {},
     "output_type": "execute_result"
    },
    {
     "data": {
      "image/png": "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\n",
      "text/plain": [
       "<Figure size 432x288 with 1 Axes>"
      ]
     },
     "metadata": {
      "needs_background": "light"
     },
     "output_type": "display_data"
    }
   ],
   "source": [
    "a['city'].value_counts().plot(kind=\"bar\")\n"
   ]
  },
  {
   "cell_type": "markdown",
   "id": "d522153c",
   "metadata": {},
   "source": [
    "\n",
    "# find all venue of mumbai city\n"
   ]
  },
  {
   "cell_type": "code",
   "execution_count": 172,
   "id": "dfc5c3e9",
   "metadata": {},
   "outputs": [
    {
     "data": {
      "text/plain": [
       "array(['Wankhede Stadium', 'Dr DY Patil Sports Academy',\n",
       "       'Brabourne Stadium'], dtype=object)"
      ]
     },
     "execution_count": 172,
     "metadata": {},
     "output_type": "execute_result"
    }
   ],
   "source": [
    "a['venue'][(a['city']=='Mumbai')].unique()\n"
   ]
  },
  {
   "cell_type": "markdown",
   "id": "d3da6680",
   "metadata": {},
   "source": [
    "# now compare in which venue of mumbai most number of matches played \n",
    "#(draw bar plot and  write down insights)\n",
    "\n"
   ]
  },
  {
   "cell_type": "code",
   "execution_count": 174,
   "id": "9ab3d97c",
   "metadata": {
    "scrolled": true
   },
   "outputs": [
    {
     "data": {
      "image/png": "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\n",
      "text/plain": [
       "<Figure size 432x288 with 1 Axes>"
      ]
     },
     "metadata": {
      "needs_background": "light"
     },
     "output_type": "display_data"
    }
   ],
   "source": [
    "sns.countplot(data=a,x=(a['venue'][(a['city']=='Mumbai')]))\n",
    "plt.ylabel('Counts', fontsize=1)\n",
    "plt.xticks(rotation='vertical')\n",
    "plt.show()"
   ]
  },
  {
   "cell_type": "markdown",
   "id": "99a1de42",
   "metadata": {},
   "source": [
    "# what is the preferred choice after winning a toss in mumbai\n",
    "c=((a[\"toss_decision\"][(a[\"city\"]==\"Mumbai\")]).value_counts())\n",
    "c"
   ]
  },
  {
   "cell_type": "code",
   "execution_count": 199,
   "id": "544b9d3d",
   "metadata": {},
   "outputs": [],
   "source": [
    "c=((a[\"toss_decision\"][(a[\"city\"]==\"Mumbai\")]).value_counts()) "
   ]
  },
  {
   "cell_type": "code",
   "execution_count": 176,
   "id": "13c52636",
   "metadata": {
    "scrolled": true
   },
   "outputs": [
    {
     "data": {
      "text/plain": [
       "<AxesSubplot:>"
      ]
     },
     "execution_count": 176,
     "metadata": {},
     "output_type": "execute_result"
    },
    {
     "data": {
      "image/png": "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\n",
      "text/plain": [
       "<Figure size 432x288 with 1 Axes>"
      ]
     },
     "metadata": {
      "needs_background": "light"
     },
     "output_type": "display_data"
    }
   ],
   "source": [
    "((a[\"toss_decision\"][(a[\"city\"]==\"Mumbai\")]).value_counts()).plot(kind=\"bar\")"
   ]
  },
  {
   "cell_type": "code",
   "execution_count": 177,
   "id": "60448286",
   "metadata": {},
   "outputs": [
    {
     "data": {
      "text/plain": [
       "Mumbai Indians                 83\n",
       "Kolkata Knight Riders          77\n",
       "Delhi Daredevils               71\n",
       "Royal Challengers Bangalore    67\n",
       "Kings XI Punjab                67\n",
       "Chennai Super Kings            66\n",
       "Rajasthan Royals               61\n",
       "Deccan Chargers                43\n",
       "Sunrisers Hyderabad            34\n",
       "Pune Warriors                  20\n",
       "Gujarat Lions                  15\n",
       "Kochi Tuskers Kerala            8\n",
       "Rising Pune Supergiants         7\n",
       "Rising Pune Supergiant          6\n",
       "Name: toss_winner, dtype: int64"
      ]
     },
     "execution_count": 177,
     "metadata": {},
     "output_type": "execute_result"
    }
   ],
   "source": [
    "a[\"toss_winner\"].value_counts()"
   ]
  },
  {
   "cell_type": "code",
   "execution_count": 178,
   "id": "17828099",
   "metadata": {},
   "outputs": [
    {
     "data": {
      "text/plain": [
       "<AxesSubplot:>"
      ]
     },
     "execution_count": 178,
     "metadata": {},
     "output_type": "execute_result"
    },
    {
     "data": {
      "image/png": "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\n",
      "text/plain": [
       "<Figure size 432x288 with 1 Axes>"
      ]
     },
     "metadata": {
      "needs_background": "light"
     },
     "output_type": "display_data"
    }
   ],
   "source": [
    "a[\"toss_winner\"].value_counts().plot(kind=\"bar\")\n"
   ]
  },
  {
   "cell_type": "code",
   "execution_count": 179,
   "id": "a36355ae",
   "metadata": {},
   "outputs": [
    {
     "data": {
      "text/plain": [
       "field    44\n",
       "bat      39\n",
       "Name: toss_decision, dtype: int64"
      ]
     },
     "execution_count": 179,
     "metadata": {},
     "output_type": "execute_result"
    }
   ],
   "source": [
    "(a['toss_decision'][(a[\"toss_winner\"]==\"Mumbai Indians\")]).value_counts()"
   ]
  },
  {
   "cell_type": "code",
   "execution_count": 180,
   "id": "5ee96f80",
   "metadata": {},
   "outputs": [
    {
     "data": {
      "text/plain": [
       "Mumbai Indians         12\n",
       "Chennai Super Kings     9\n",
       "Name: winner, dtype: int64"
      ]
     },
     "execution_count": 180,
     "metadata": {},
     "output_type": "execute_result"
    }
   ],
   "source": [
    "#head to head winning count of Mumbai Indians vs Chennai Super Kings\n",
    "w=['Mumbai Indians','Chennai Super Kings']\n",
    "a['winner'][a.team1.isin(w) & a.team2.isin(w)].value_counts()\n"
   ]
  },
  {
   "cell_type": "code",
   "execution_count": null,
   "id": "94b34c26",
   "metadata": {},
   "outputs": [],
   "source": []
  },
  {
   "cell_type": "code",
   "execution_count": 181,
   "id": "54ea57b8",
   "metadata": {},
   "outputs": [
    {
     "data": {
      "text/plain": [
       "Mumbai Indians                 45\n",
       "Chennai Super Kings             8\n",
       "Kings XI Punjab                 5\n",
       "Royal Challengers Bangalore     5\n",
       "Rajasthan Royals                5\n",
       "Deccan Chargers                 3\n",
       "Kolkata Knight Riders           3\n",
       "Pune Warriors                   3\n",
       "Rising Pune Supergiant          2\n",
       "Delhi Daredevils                2\n",
       "Kochi Tuskers Kerala            1\n",
       "Sunrisers Hyderabad             1\n",
       "Rising Pune Supergiants         1\n",
       "Gujarat Lions                   1\n",
       "Name: winner, dtype: int64"
      ]
     },
     "execution_count": 181,
     "metadata": {},
     "output_type": "execute_result"
    }
   ],
   "source": [
    "#Which team won most of the matches in mumbai?\n",
    "a['winner'][a.city=='Mumbai'].value_counts()\n"
   ]
  },
  {
   "cell_type": "code",
   "execution_count": 182,
   "id": "02afaf05",
   "metadata": {},
   "outputs": [
    {
     "data": {
      "text/plain": [
       "Royal Challengers Bangalore    29\n",
       "Mumbai Indians                  8\n",
       "Kolkata Knight Riders           6\n",
       "Kings XI Punjab                 5\n",
       "Chennai Super Kings             4\n",
       "Rajasthan Royals                3\n",
       "Delhi Daredevils                3\n",
       "Sunrisers Hyderabad             2\n",
       "Rising Pune Supergiant          1\n",
       "Gujarat Lions                   1\n",
       "Deccan Chargers                 1\n",
       "Name: winner, dtype: int64"
      ]
     },
     "execution_count": 182,
     "metadata": {},
     "output_type": "execute_result"
    }
   ],
   "source": [
    "#who won most matches at M Chinnaswamy stadium?\n",
    "a[\"winner\"][(a.venue == \"M Chinnaswamy Stadium\")].value_counts()"
   ]
  },
  {
   "cell_type": "code",
   "execution_count": 183,
   "id": "b08f42f2",
   "metadata": {},
   "outputs": [
    {
     "data": {
      "text/plain": [
       "Mumbai Indians                 48\n",
       "Kolkata Knight Riders          44\n",
       "Chennai Super Kings            42\n",
       "Rajasthan Royals               34\n",
       "Delhi Daredevils               33\n",
       "Royal Challengers Bangalore    33\n",
       "Kings XI Punjab                27\n",
       "Deccan Chargers                19\n",
       "Sunrisers Hyderabad            16\n",
       "Gujarat Lions                  10\n",
       "Rising Pune Supergiant          5\n",
       "Kochi Tuskers Kerala            4\n",
       "Pune Warriors                   3\n",
       "Rising Pune Supergiants         3\n",
       "Name: toss_winner, dtype: int64"
      ]
     },
     "execution_count": 183,
     "metadata": {},
     "output_type": "execute_result"
    }
   ],
   "source": [
    "#how many times each team won the toss and won the match\n",
    "#a['toss_winner']=a[(a.toss_winner==\"winner\")].value_counts()\n",
    "a['toss_winner'][(a[\"toss_winner\"] == a[\"winner\"])].value_counts()\n"
   ]
  },
  {
   "cell_type": "code",
   "execution_count": 184,
   "id": "8bd80af1",
   "metadata": {},
   "outputs": [
    {
     "data": {
      "text/plain": [
       "Series([], Name: winner, dtype: int64)"
      ]
     },
     "execution_count": 184,
     "metadata": {},
     "output_type": "execute_result"
    }
   ],
   "source": [
    "#how many times each team won the toss and won the match in mumbai\n",
    "#a['toss_winner'][(a.winner=='Mumbai')].value_counts()\n",
    "a['winner'][(a.toss_winner=='Mumbai')].value_counts()"
   ]
  },
  {
   "cell_type": "code",
   "execution_count": 187,
   "id": "0f9b51ec",
   "metadata": {},
   "outputs": [
    {
     "data": {
      "image/png": "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\n",
      "text/plain": [
       "<Figure size 720x720 with 1 Axes>"
      ]
     },
     "metadata": {
      "needs_background": "light"
     },
     "output_type": "display_data"
    }
   ],
   "source": [
    "#which venue hosted most number of matches\n",
    "#a['venue'].value_counts().plot(kind=\"bar\")\n",
    "\n",
    "plt.figure(figsize=(10,10))\n",
    "sns.countplot(y=\"venue\",data=a,order=a.venue.value_counts().index,color=\"red\")\n",
    "plt.ylabel('Venue', fontsize=12)\n",
    "plt.xlabel('Counts', fontsize=12)\n",
    "plt.show()\n",
    "\n"
   ]
  },
  {
   "cell_type": "code",
   "execution_count": 198,
   "id": "a492ce7e",
   "metadata": {},
   "outputs": [
    {
     "data": {
      "text/plain": [
       "Royal Challengers Bangalore    29\n",
       "Mumbai Indians                  8\n",
       "Kolkata Knight Riders           6\n",
       "Kings XI Punjab                 5\n",
       "Chennai Super Kings             4\n",
       "Rajasthan Royals                3\n",
       "Delhi Daredevils                3\n",
       "Sunrisers Hyderabad             2\n",
       "Rising Pune Supergiant          1\n",
       "Gujarat Lions                   1\n",
       "Deccan Chargers                 1\n",
       "Name: winner, dtype: int64"
      ]
     },
     "execution_count": 198,
     "metadata": {},
     "output_type": "execute_result"
    }
   ],
   "source": [
    "#who won most matches at M Chinnaswamy stadium?\n",
    "a['winner'][(a['venue']=='M Chinnaswamy Stadium')].value_counts()"
   ]
  },
  {
   "cell_type": "markdown",
   "id": "33e9cf2c",
   "metadata": {},
   "source": [
    "# year wise analysis"
   ]
  },
  {
   "cell_type": "code",
   "execution_count": 202,
   "id": "05df78fe",
   "metadata": {},
   "outputs": [
    {
     "data": {
      "text/plain": [
       "2013    76\n",
       "2012    74\n",
       "2011    72\n",
       "2010    60\n",
       "2016    60\n",
       "2017    58\n",
       "2008    58\n",
       "2009    57\n",
       "2015    57\n",
       "2014    53\n",
       "Name: season, dtype: int64"
      ]
     },
     "execution_count": 202,
     "metadata": {},
     "output_type": "execute_result"
    }
   ],
   "source": [
    "#matches played in each year\n",
    "a['season'].value_counts()\n"
   ]
  },
  {
   "cell_type": "code",
   "execution_count": 206,
   "id": "e9fc77fb",
   "metadata": {},
   "outputs": [
    {
     "data": {
      "text/html": [
       "<div>\n",
       "<style scoped>\n",
       "    .dataframe tbody tr th:only-of-type {\n",
       "        vertical-align: middle;\n",
       "    }\n",
       "\n",
       "    .dataframe tbody tr th {\n",
       "        vertical-align: top;\n",
       "    }\n",
       "\n",
       "    .dataframe thead th {\n",
       "        text-align: right;\n",
       "    }\n",
       "</style>\n",
       "<table border=\"1\" class=\"dataframe\">\n",
       "  <thead>\n",
       "    <tr style=\"text-align: right;\">\n",
       "      <th></th>\n",
       "      <th>id</th>\n",
       "      <th>season</th>\n",
       "      <th>city</th>\n",
       "      <th>date</th>\n",
       "      <th>team1</th>\n",
       "      <th>team2</th>\n",
       "      <th>toss_winner</th>\n",
       "      <th>toss_decision</th>\n",
       "      <th>result</th>\n",
       "      <th>dl_applied</th>\n",
       "      <th>winner</th>\n",
       "      <th>win_by_runs</th>\n",
       "      <th>win_by_wickets</th>\n",
       "      <th>player_of_match</th>\n",
       "      <th>venue</th>\n",
       "      <th>umpire1</th>\n",
       "      <th>umpire2</th>\n",
       "    </tr>\n",
       "  </thead>\n",
       "  <tbody>\n",
       "    <tr>\n",
       "      <th>381</th>\n",
       "      <td>382</td>\n",
       "      <td>2013</td>\n",
       "      <td>Kolkata</td>\n",
       "      <td>2013-04-03</td>\n",
       "      <td>Delhi Daredevils</td>\n",
       "      <td>Kolkata Knight Riders</td>\n",
       "      <td>Kolkata Knight Riders</td>\n",
       "      <td>field</td>\n",
       "      <td>normal</td>\n",
       "      <td>0</td>\n",
       "      <td>Kolkata Knight Riders</td>\n",
       "      <td>0</td>\n",
       "      <td>6</td>\n",
       "      <td>SP Narine</td>\n",
       "      <td>Eden Gardens</td>\n",
       "      <td>S Ravi</td>\n",
       "      <td>SJA Taufel</td>\n",
       "    </tr>\n",
       "    <tr>\n",
       "      <th>382</th>\n",
       "      <td>383</td>\n",
       "      <td>2013</td>\n",
       "      <td>Bangalore</td>\n",
       "      <td>2013-04-04</td>\n",
       "      <td>Royal Challengers Bangalore</td>\n",
       "      <td>Mumbai Indians</td>\n",
       "      <td>Mumbai Indians</td>\n",
       "      <td>field</td>\n",
       "      <td>normal</td>\n",
       "      <td>0</td>\n",
       "      <td>Royal Challengers Bangalore</td>\n",
       "      <td>2</td>\n",
       "      <td>0</td>\n",
       "      <td>CH Gayle</td>\n",
       "      <td>M Chinnaswamy Stadium</td>\n",
       "      <td>VA Kulkarni</td>\n",
       "      <td>C Shamshuddin</td>\n",
       "    </tr>\n",
       "    <tr>\n",
       "      <th>383</th>\n",
       "      <td>384</td>\n",
       "      <td>2013</td>\n",
       "      <td>Hyderabad</td>\n",
       "      <td>2013-04-05</td>\n",
       "      <td>Sunrisers Hyderabad</td>\n",
       "      <td>Pune Warriors</td>\n",
       "      <td>Pune Warriors</td>\n",
       "      <td>field</td>\n",
       "      <td>normal</td>\n",
       "      <td>0</td>\n",
       "      <td>Sunrisers Hyderabad</td>\n",
       "      <td>22</td>\n",
       "      <td>0</td>\n",
       "      <td>A Mishra</td>\n",
       "      <td>Rajiv Gandhi International Stadium, Uppal</td>\n",
       "      <td>S Ravi</td>\n",
       "      <td>SJA Taufel</td>\n",
       "    </tr>\n",
       "    <tr>\n",
       "      <th>384</th>\n",
       "      <td>385</td>\n",
       "      <td>2013</td>\n",
       "      <td>Delhi</td>\n",
       "      <td>2013-04-06</td>\n",
       "      <td>Rajasthan Royals</td>\n",
       "      <td>Delhi Daredevils</td>\n",
       "      <td>Rajasthan Royals</td>\n",
       "      <td>bat</td>\n",
       "      <td>normal</td>\n",
       "      <td>0</td>\n",
       "      <td>Rajasthan Royals</td>\n",
       "      <td>5</td>\n",
       "      <td>0</td>\n",
       "      <td>R Dravid</td>\n",
       "      <td>Feroz Shah Kotla</td>\n",
       "      <td>S Das</td>\n",
       "      <td>C Shamshuddin</td>\n",
       "    </tr>\n",
       "    <tr>\n",
       "      <th>385</th>\n",
       "      <td>386</td>\n",
       "      <td>2013</td>\n",
       "      <td>Chennai</td>\n",
       "      <td>2013-04-06</td>\n",
       "      <td>Mumbai Indians</td>\n",
       "      <td>Chennai Super Kings</td>\n",
       "      <td>Mumbai Indians</td>\n",
       "      <td>bat</td>\n",
       "      <td>normal</td>\n",
       "      <td>0</td>\n",
       "      <td>Mumbai Indians</td>\n",
       "      <td>9</td>\n",
       "      <td>0</td>\n",
       "      <td>KA Pollard</td>\n",
       "      <td>MA Chidambaram Stadium, Chepauk</td>\n",
       "      <td>M Erasmus</td>\n",
       "      <td>VA Kulkarni</td>\n",
       "    </tr>\n",
       "    <tr>\n",
       "      <th>...</th>\n",
       "      <td>...</td>\n",
       "      <td>...</td>\n",
       "      <td>...</td>\n",
       "      <td>...</td>\n",
       "      <td>...</td>\n",
       "      <td>...</td>\n",
       "      <td>...</td>\n",
       "      <td>...</td>\n",
       "      <td>...</td>\n",
       "      <td>...</td>\n",
       "      <td>...</td>\n",
       "      <td>...</td>\n",
       "      <td>...</td>\n",
       "      <td>...</td>\n",
       "      <td>...</td>\n",
       "      <td>...</td>\n",
       "      <td>...</td>\n",
       "    </tr>\n",
       "    <tr>\n",
       "      <th>452</th>\n",
       "      <td>453</td>\n",
       "      <td>2013</td>\n",
       "      <td>Hyderabad</td>\n",
       "      <td>2013-05-19</td>\n",
       "      <td>Kolkata Knight Riders</td>\n",
       "      <td>Sunrisers Hyderabad</td>\n",
       "      <td>Kolkata Knight Riders</td>\n",
       "      <td>bat</td>\n",
       "      <td>normal</td>\n",
       "      <td>0</td>\n",
       "      <td>Sunrisers Hyderabad</td>\n",
       "      <td>0</td>\n",
       "      <td>5</td>\n",
       "      <td>PA Patel</td>\n",
       "      <td>Rajiv Gandhi International Stadium, Uppal</td>\n",
       "      <td>Asad Rauf</td>\n",
       "      <td>S Asnani</td>\n",
       "    </tr>\n",
       "    <tr>\n",
       "      <th>453</th>\n",
       "      <td>454</td>\n",
       "      <td>2013</td>\n",
       "      <td>Delhi</td>\n",
       "      <td>2013-05-21</td>\n",
       "      <td>Chennai Super Kings</td>\n",
       "      <td>Mumbai Indians</td>\n",
       "      <td>Chennai Super Kings</td>\n",
       "      <td>bat</td>\n",
       "      <td>normal</td>\n",
       "      <td>0</td>\n",
       "      <td>Chennai Super Kings</td>\n",
       "      <td>48</td>\n",
       "      <td>0</td>\n",
       "      <td>MEK Hussey</td>\n",
       "      <td>Feroz Shah Kotla</td>\n",
       "      <td>NJ Llong</td>\n",
       "      <td>RJ Tucker</td>\n",
       "    </tr>\n",
       "    <tr>\n",
       "      <th>454</th>\n",
       "      <td>455</td>\n",
       "      <td>2013</td>\n",
       "      <td>Delhi</td>\n",
       "      <td>2013-05-22</td>\n",
       "      <td>Sunrisers Hyderabad</td>\n",
       "      <td>Rajasthan Royals</td>\n",
       "      <td>Sunrisers Hyderabad</td>\n",
       "      <td>bat</td>\n",
       "      <td>normal</td>\n",
       "      <td>0</td>\n",
       "      <td>Rajasthan Royals</td>\n",
       "      <td>0</td>\n",
       "      <td>4</td>\n",
       "      <td>BJ Hodge</td>\n",
       "      <td>Feroz Shah Kotla</td>\n",
       "      <td>S Ravi</td>\n",
       "      <td>RJ Tucker</td>\n",
       "    </tr>\n",
       "    <tr>\n",
       "      <th>455</th>\n",
       "      <td>456</td>\n",
       "      <td>2013</td>\n",
       "      <td>Kolkata</td>\n",
       "      <td>2013-05-24</td>\n",
       "      <td>Rajasthan Royals</td>\n",
       "      <td>Mumbai Indians</td>\n",
       "      <td>Rajasthan Royals</td>\n",
       "      <td>bat</td>\n",
       "      <td>normal</td>\n",
       "      <td>0</td>\n",
       "      <td>Mumbai Indians</td>\n",
       "      <td>0</td>\n",
       "      <td>4</td>\n",
       "      <td>Harbhajan Singh</td>\n",
       "      <td>Eden Gardens</td>\n",
       "      <td>C Shamshuddin</td>\n",
       "      <td>SJA Taufel</td>\n",
       "    </tr>\n",
       "    <tr>\n",
       "      <th>456</th>\n",
       "      <td>457</td>\n",
       "      <td>2013</td>\n",
       "      <td>Kolkata</td>\n",
       "      <td>2013-05-26</td>\n",
       "      <td>Mumbai Indians</td>\n",
       "      <td>Chennai Super Kings</td>\n",
       "      <td>Mumbai Indians</td>\n",
       "      <td>bat</td>\n",
       "      <td>normal</td>\n",
       "      <td>0</td>\n",
       "      <td>Mumbai Indians</td>\n",
       "      <td>23</td>\n",
       "      <td>0</td>\n",
       "      <td>KA Pollard</td>\n",
       "      <td>Eden Gardens</td>\n",
       "      <td>HDPK Dharmasena</td>\n",
       "      <td>SJA Taufel</td>\n",
       "    </tr>\n",
       "  </tbody>\n",
       "</table>\n",
       "<p>76 rows × 17 columns</p>\n",
       "</div>"
      ],
      "text/plain": [
       "      id  season       city        date                        team1  \\\n",
       "381  382    2013    Kolkata  2013-04-03             Delhi Daredevils   \n",
       "382  383    2013  Bangalore  2013-04-04  Royal Challengers Bangalore   \n",
       "383  384    2013  Hyderabad  2013-04-05          Sunrisers Hyderabad   \n",
       "384  385    2013      Delhi  2013-04-06             Rajasthan Royals   \n",
       "385  386    2013    Chennai  2013-04-06               Mumbai Indians   \n",
       "..   ...     ...        ...         ...                          ...   \n",
       "452  453    2013  Hyderabad  2013-05-19        Kolkata Knight Riders   \n",
       "453  454    2013      Delhi  2013-05-21          Chennai Super Kings   \n",
       "454  455    2013      Delhi  2013-05-22          Sunrisers Hyderabad   \n",
       "455  456    2013    Kolkata  2013-05-24             Rajasthan Royals   \n",
       "456  457    2013    Kolkata  2013-05-26               Mumbai Indians   \n",
       "\n",
       "                     team2            toss_winner toss_decision  result  \\\n",
       "381  Kolkata Knight Riders  Kolkata Knight Riders         field  normal   \n",
       "382         Mumbai Indians         Mumbai Indians         field  normal   \n",
       "383          Pune Warriors          Pune Warriors         field  normal   \n",
       "384       Delhi Daredevils       Rajasthan Royals           bat  normal   \n",
       "385    Chennai Super Kings         Mumbai Indians           bat  normal   \n",
       "..                     ...                    ...           ...     ...   \n",
       "452    Sunrisers Hyderabad  Kolkata Knight Riders           bat  normal   \n",
       "453         Mumbai Indians    Chennai Super Kings           bat  normal   \n",
       "454       Rajasthan Royals    Sunrisers Hyderabad           bat  normal   \n",
       "455         Mumbai Indians       Rajasthan Royals           bat  normal   \n",
       "456    Chennai Super Kings         Mumbai Indians           bat  normal   \n",
       "\n",
       "     dl_applied                       winner  win_by_runs  win_by_wickets  \\\n",
       "381           0        Kolkata Knight Riders            0               6   \n",
       "382           0  Royal Challengers Bangalore            2               0   \n",
       "383           0          Sunrisers Hyderabad           22               0   \n",
       "384           0             Rajasthan Royals            5               0   \n",
       "385           0               Mumbai Indians            9               0   \n",
       "..          ...                          ...          ...             ...   \n",
       "452           0          Sunrisers Hyderabad            0               5   \n",
       "453           0          Chennai Super Kings           48               0   \n",
       "454           0             Rajasthan Royals            0               4   \n",
       "455           0               Mumbai Indians            0               4   \n",
       "456           0               Mumbai Indians           23               0   \n",
       "\n",
       "     player_of_match                                      venue  \\\n",
       "381        SP Narine                               Eden Gardens   \n",
       "382         CH Gayle                      M Chinnaswamy Stadium   \n",
       "383         A Mishra  Rajiv Gandhi International Stadium, Uppal   \n",
       "384         R Dravid                           Feroz Shah Kotla   \n",
       "385       KA Pollard            MA Chidambaram Stadium, Chepauk   \n",
       "..               ...                                        ...   \n",
       "452         PA Patel  Rajiv Gandhi International Stadium, Uppal   \n",
       "453       MEK Hussey                           Feroz Shah Kotla   \n",
       "454         BJ Hodge                           Feroz Shah Kotla   \n",
       "455  Harbhajan Singh                               Eden Gardens   \n",
       "456       KA Pollard                               Eden Gardens   \n",
       "\n",
       "             umpire1        umpire2  \n",
       "381           S Ravi     SJA Taufel  \n",
       "382      VA Kulkarni  C Shamshuddin  \n",
       "383           S Ravi     SJA Taufel  \n",
       "384            S Das  C Shamshuddin  \n",
       "385        M Erasmus    VA Kulkarni  \n",
       "..               ...            ...  \n",
       "452        Asad Rauf       S Asnani  \n",
       "453         NJ Llong      RJ Tucker  \n",
       "454           S Ravi      RJ Tucker  \n",
       "455    C Shamshuddin     SJA Taufel  \n",
       "456  HDPK Dharmasena     SJA Taufel  \n",
       "\n",
       "[76 rows x 17 columns]"
      ]
     },
     "execution_count": 206,
     "metadata": {},
     "output_type": "execute_result"
    }
   ],
   "source": [
    "#lets analyse ipl season held in 2013\n",
    "#extract all the details of 2013 season\n",
    "#here we will create yearwise groups (hint: use groupby() function)\n",
    "\n",
    "ipl2013=a.groupby(\"season\")\n",
    "ipl2013.get_group(2013)"
   ]
  },
  {
   "cell_type": "code",
   "execution_count": 210,
   "id": "60097672",
   "metadata": {},
   "outputs": [
    {
     "data": {
      "text/plain": [
       "Kolkata       8\n",
       "Bangalore     8\n",
       "Hyderabad     8\n",
       "Delhi         8\n",
       "Chennai       8\n",
       "Pune          8\n",
       "Jaipur        8\n",
       "Mumbai        8\n",
       "Chandigarh    6\n",
       "Dharamsala    2\n",
       "Raipur        2\n",
       "Ranchi        2\n",
       "Name: city, dtype: int64"
      ]
     },
     "execution_count": 210,
     "metadata": {},
     "output_type": "execute_result"
    }
   ],
   "source": [
    "#which city hosted most number of matches in 2013\n",
    "a['city'][(a.season==2013)].value_counts()"
   ]
  },
  {
   "cell_type": "code",
   "execution_count": null,
   "id": "aa494aa0",
   "metadata": {
    "scrolled": false
   },
   "outputs": [],
   "source": []
  },
  {
   "cell_type": "code",
   "execution_count": null,
   "id": "d99795b1",
   "metadata": {},
   "outputs": [],
   "source": []
  },
  {
   "cell_type": "code",
   "execution_count": null,
   "id": "f4863dca",
   "metadata": {},
   "outputs": [],
   "source": []
  },
  {
   "cell_type": "code",
   "execution_count": null,
   "id": "9d308adf",
   "metadata": {},
   "outputs": [],
   "source": []
  }
 ],
 "metadata": {
  "kernelspec": {
   "display_name": "Python 3",
   "language": "python",
   "name": "python3"
  },
  "language_info": {
   "codemirror_mode": {
    "name": "ipython",
    "version": 3
   },
   "file_extension": ".py",
   "mimetype": "text/x-python",
   "name": "python",
   "nbconvert_exporter": "python",
   "pygments_lexer": "ipython3",
   "version": "3.8.8"
  }
 },
 "nbformat": 4,
 "nbformat_minor": 5
}



https://drive.google.com/drive/folders/1y3ViaKCVamKfaSR0iT1X78kjowSP3NWa?usp=sharing
